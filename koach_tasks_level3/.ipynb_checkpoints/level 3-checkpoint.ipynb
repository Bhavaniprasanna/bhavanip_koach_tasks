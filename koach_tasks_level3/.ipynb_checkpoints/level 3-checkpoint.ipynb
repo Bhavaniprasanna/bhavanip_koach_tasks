{
 "cells": [
  {
   "cell_type": "code",
   "execution_count": 65,
   "id": "e24d8bff",
   "metadata": {},
   "outputs": [],
   "source": [
    "import json\n",
    "\n",
    "with open(\"input1.json\") as f1:\n",
    "    students=json.load(f1)\n",
    "    \n",
    "with open(\"input2.json\") as f2:\n",
    "    group=json.load(f2)\n",
    "    \n",
    "with open(\"input3.json\") as f3:\n",
    "    colleges=json.load(f3)\n",
    "\n",
    "result=[]\n"
   ]
  },
  {
   "cell_type": "code",
   "execution_count": 50,
   "id": "40f08d62",
   "metadata": {},
   "outputs": [],
   "source": [
    "##number of records of students =400\n",
    "##number of records of group=50\n",
    "##number of records of colleges=10"
   ]
  },
  {
   "cell_type": "code",
   "execution_count": 66,
   "id": "ff1cd91c",
   "metadata": {},
   "outputs": [
    {
     "name": "stdout",
     "output_type": "stream",
     "text": [
      "400\n",
      "50\n",
      "10\n"
     ]
    }
   ],
   "source": [
    "print(len(data1))\n",
    "print(len(data2))\n",
    "print(len(data3))"
   ]
  },
  {
   "cell_type": "code",
   "execution_count": 67,
   "id": "9c50d2ef",
   "metadata": {},
   "outputs": [
    {
     "name": "stdout",
     "output_type": "stream",
     "text": [
      "Number of active colleges\n",
      "5\n",
      "Number of inactive colleges\n",
      "5\n"
     ]
    }
   ],
   "source": [
    "active_clgs=[]\n",
    "inactive_clgs=[]\n",
    "\n",
    "for c in colleges:\n",
    "    if c['status']==True:\n",
    "        active_clgs.append(c)\n",
    "    else:\n",
    "        inactive_clgs.append(c)\n",
    "        \n",
    "print(\"Number of active colleges\")\n",
    "print(len(active_clgs))\n",
    "\n",
    "print(\"Number of inactive colleges\")\n",
    "print(len(inactive_clgs))"
   ]
  },
  {
   "cell_type": "code",
   "execution_count": 68,
   "id": "bec033e6",
   "metadata": {},
   "outputs": [],
   "source": [
    "total_active_clgs=len(active_clgs)\n",
    "total_inactive_clgs=len(inactive_clgs)"
   ]
  },
  {
   "cell_type": "code",
   "execution_count": 69,
   "id": "f5ce5d40",
   "metadata": {},
   "outputs": [
    {
     "name": "stdout",
     "output_type": "stream",
     "text": [
      "Number of active groups\n",
      "30\n",
      "Number of inactive groups\n",
      "20\n"
     ]
    }
   ],
   "source": [
    "active_groups=[]\n",
    "inactive_groups=[]\n",
    "\n",
    "for g in group:\n",
    "    if g['status']==True:\n",
    "        active_groups.append(g)\n",
    "    else:\n",
    "        inactive_groups.append(g)\n",
    "\n",
    "print(\"Number of active groups\")\n",
    "print(len(active_groups))\n",
    "\n",
    "print(\"Number of inactive groups\")\n",
    "print(len(inactive_groups))"
   ]
  },
  {
   "cell_type": "code",
   "execution_count": 70,
   "id": "df9b08d2",
   "metadata": {},
   "outputs": [],
   "source": [
    "total_active_grps=len(active_groups)\n",
    "total_inactive_grps=len(inactive_groups)"
   ]
  },
  {
   "cell_type": "code",
   "execution_count": 71,
   "id": "58f4cdff",
   "metadata": {},
   "outputs": [
    {
     "name": "stdout",
     "output_type": "stream",
     "text": [
      "Number of active students\n",
      "200\n",
      "Number of inactive students\n",
      "200\n"
     ]
    }
   ],
   "source": [
    "active_stds=[]\n",
    "inactive_stds=[]\n",
    "\n",
    "for s in students:\n",
    "    if s['status']==True:\n",
    "        active_stds.append(s)\n",
    "    else:\n",
    "        inactive_stds.append(s)\n",
    "\n",
    "print(\"Number of active students\")\n",
    "print(len(active_stds))\n",
    "\n",
    "print(\"Number of inactive students\")\n",
    "print(len(inactive_stds))"
   ]
  },
  {
   "cell_type": "code",
   "execution_count": 72,
   "id": "465b394b",
   "metadata": {},
   "outputs": [],
   "source": [
    "total_active_stds=len(active_stds)\n",
    "total_inactive_stds=len(inactive_stds)"
   ]
  },
  {
   "cell_type": "code",
   "execution_count": 73,
   "id": "a1165284",
   "metadata": {},
   "outputs": [],
   "source": [
    "output1={\n",
    "   \"total_active_clgs\":total_active_clgs ,\n",
    "   \"total_inactive_clgs\":total_inactive_clgs ,\n",
    "   \"total_active_grps\": total_active_grps,\n",
    "   \"total_inactive_grps\":total_inactive_grps,\n",
    "   \"total_active_stds\":total_active_stds ,\n",
    "   \"total_inactive_stds\":total_inactive_stds\n",
    "}\n",
    "\n",
    "json_obj=json.dumps(output1,indent=6)\n",
    "\n",
    "with open (\"output1\",\"w\") as o1:\n",
    "    o1.write(json_obj)\n",
    "    "
   ]
  },
  {
   "cell_type": "code",
   "execution_count": 74,
   "id": "e51ffb76",
   "metadata": {},
   "outputs": [],
   "source": [
    "student_group=[]\n",
    "for i in students:\n",
    "    for j in group:\n",
    "        if i['grp_id']== j['grp_id']:\n",
    "            i['grp_name']=j['grp_name']\n",
    "            i['clg_id']=j['clg_id']\n",
    "            student_group.append(i)\n",
    "#print(student_group)       \n",
    "            "
   ]
  },
  {
   "cell_type": "code",
   "execution_count": 75,
   "id": "813b7b46",
   "metadata": {
    "scrolled": false
   },
   "outputs": [],
   "source": [
    "student_group_clgname=[]\n",
    "# output2=[]\n",
    "for i in student_group:\n",
    "    for j in colleges:\n",
    "        if i['clg_id']==j['clg_id']:\n",
    "            i['clg_name']=j['clg_name']\n",
    "            student_group_clgname.append(i)\n",
    "            \n",
    "for i in student_group_clgname:\n",
    "    del i['grp_id']\n",
    "#     output2.append(json.dumps(i))\n",
    "#print(student_group_clgname)   \n"
   ]
  },
  {
   "cell_type": "code",
   "execution_count": 76,
   "id": "bdc5e326",
   "metadata": {},
   "outputs": [
    {
     "ename": "TypeError",
     "evalue": "write() argument must be str, not list",
     "output_type": "error",
     "traceback": [
      "\u001b[1;31m---------------------------------------------------------------------------\u001b[0m",
      "\u001b[1;31mTypeError\u001b[0m                                 Traceback (most recent call last)",
      "\u001b[1;32mC:\\Users\\BHAVAN~1\\AppData\\Local\\Temp/ipykernel_8300/436290436.py\u001b[0m in \u001b[0;36m<module>\u001b[1;34m\u001b[0m\n\u001b[0;32m      1\u001b[0m \u001b[1;32mwith\u001b[0m \u001b[0mopen\u001b[0m\u001b[1;33m(\u001b[0m\u001b[1;34m\"output2\"\u001b[0m\u001b[1;33m,\u001b[0m\u001b[1;34m\"w\"\u001b[0m\u001b[1;33m)\u001b[0m \u001b[1;32mas\u001b[0m \u001b[0mo2\u001b[0m\u001b[1;33m:\u001b[0m\u001b[1;33m\u001b[0m\u001b[1;33m\u001b[0m\u001b[0m\n\u001b[1;32m----> 2\u001b[1;33m     \u001b[0mo2\u001b[0m\u001b[1;33m.\u001b[0m\u001b[0mwrite\u001b[0m\u001b[1;33m(\u001b[0m\u001b[0moutput2\u001b[0m\u001b[1;33m)\u001b[0m\u001b[1;33m\u001b[0m\u001b[1;33m\u001b[0m\u001b[0m\n\u001b[0m",
      "\u001b[1;31mTypeError\u001b[0m: write() argument must be str, not list"
     ]
    }
   ],
   "source": [
    "with open(\"output2\",\"w\") as o2:\n",
    "    o2.write(output2)"
   ]
  },
  {
   "cell_type": "code",
   "execution_count": null,
   "id": "b84d5003",
   "metadata": {},
   "outputs": [],
   "source": []
  },
  {
   "cell_type": "code",
   "execution_count": null,
   "id": "dc53d036",
   "metadata": {},
   "outputs": [],
   "source": []
  },
  {
   "cell_type": "code",
   "execution_count": null,
   "id": "365a4696",
   "metadata": {},
   "outputs": [],
   "source": []
  },
  {
   "cell_type": "code",
   "execution_count": null,
   "id": "9ac2ff79",
   "metadata": {},
   "outputs": [],
   "source": []
  },
  {
   "cell_type": "code",
   "execution_count": null,
   "id": "888a4374",
   "metadata": {},
   "outputs": [],
   "source": []
  },
  {
   "cell_type": "code",
   "execution_count": null,
   "id": "3cf08c35",
   "metadata": {},
   "outputs": [],
   "source": []
  },
  {
   "cell_type": "code",
   "execution_count": null,
   "id": "0a5aeef9",
   "metadata": {},
   "outputs": [],
   "source": []
  }
 ],
 "metadata": {
  "kernelspec": {
   "display_name": "Python 3 (ipykernel)",
   "language": "python",
   "name": "python3"
  },
  "language_info": {
   "codemirror_mode": {
    "name": "ipython",
    "version": 3
   },
   "file_extension": ".py",
   "mimetype": "text/x-python",
   "name": "python",
   "nbconvert_exporter": "python",
   "pygments_lexer": "ipython3",
   "version": "3.8.8"
  }
 },
 "nbformat": 4,
 "nbformat_minor": 5
}
