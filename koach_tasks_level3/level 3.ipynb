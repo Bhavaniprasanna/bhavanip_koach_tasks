{
 "cells": [
  {
   "cell_type": "markdown",
   "id": "c14f7355",
   "metadata": {},
   "source": [
    "# Level 3 task"
   ]
  },
  {
   "cell_type": "code",
   "execution_count": 85,
   "id": "9cd6da46",
   "metadata": {},
   "outputs": [],
   "source": [
    "import json\n",
    "\n",
    "with open(\"input1.json\") as f1:\n",
    "    students=json.load(f1)\n",
    "    \n",
    "with open(\"input2.json\") as f2:\n",
    "    group=json.load(f2)\n",
    "    \n",
    "with open(\"input3.json\") as f3:\n",
    "    colleges=json.load(f3)\n"
   ]
  },
  {
   "cell_type": "code",
   "execution_count": 86,
   "id": "6e50db26",
   "metadata": {},
   "outputs": [],
   "source": [
    "##number of records of students =400\n",
    "##number of records of group=50\n",
    "##number of records of colleges=10"
   ]
  },
  {
   "cell_type": "code",
   "execution_count": 87,
   "id": "5b42d5df",
   "metadata": {},
   "outputs": [],
   "source": [
    "# print(len(students))\n",
    "# print(len(group))\n",
    "# print(len(colleges))"
   ]
  },
  {
   "cell_type": "code",
   "execution_count": 88,
   "id": "114da42f",
   "metadata": {},
   "outputs": [
    {
     "name": "stdout",
     "output_type": "stream",
     "text": [
      "Number of active colleges\n",
      "5\n",
      "Number of inactive colleges\n",
      "5\n"
     ]
    }
   ],
   "source": [
    "active_clgs=[]\n",
    "inactive_clgs=[]\n",
    "\n",
    "for c in colleges:\n",
    "    if c['status']==True:\n",
    "        active_clgs.append(c)\n",
    "    else:\n",
    "        inactive_clgs.append(c)\n",
    "        \n",
    "print(\"Number of active colleges\")\n",
    "print(len(active_clgs))\n",
    "\n",
    "print(\"Number of inactive colleges\")\n",
    "print(len(inactive_clgs))"
   ]
  },
  {
   "cell_type": "code",
   "execution_count": 89,
   "id": "4d9837a1",
   "metadata": {},
   "outputs": [],
   "source": [
    "total_active_clgs=len(active_clgs)\n",
    "total_inactive_clgs=len(inactive_clgs)"
   ]
  },
  {
   "cell_type": "code",
   "execution_count": 90,
   "id": "c00147ef",
   "metadata": {},
   "outputs": [
    {
     "name": "stdout",
     "output_type": "stream",
     "text": [
      "Number of active groups\n",
      "30\n",
      "Number of inactive groups\n",
      "20\n"
     ]
    }
   ],
   "source": [
    "active_groups=[]\n",
    "inactive_groups=[]\n",
    "\n",
    "for g in group:\n",
    "    if g['status']==True:\n",
    "        active_groups.append(g)\n",
    "    else:\n",
    "        inactive_groups.append(g)\n",
    "\n",
    "print(\"Number of active groups\")\n",
    "print(len(active_groups))\n",
    "\n",
    "print(\"Number of inactive groups\")\n",
    "print(len(inactive_groups))"
   ]
  },
  {
   "cell_type": "code",
   "execution_count": 91,
   "id": "2bdf95fe",
   "metadata": {},
   "outputs": [],
   "source": [
    "total_active_grps=len(active_groups)\n",
    "total_inactive_grps=len(inactive_groups)"
   ]
  },
  {
   "cell_type": "code",
   "execution_count": 92,
   "id": "0f870884",
   "metadata": {},
   "outputs": [
    {
     "name": "stdout",
     "output_type": "stream",
     "text": [
      "Number of active students\n",
      "200\n",
      "Number of inactive students\n",
      "200\n"
     ]
    }
   ],
   "source": [
    "active_stds=[]\n",
    "inactive_stds=[]\n",
    "\n",
    "for s in students:\n",
    "    if s['status']==True:\n",
    "        active_stds.append(s)\n",
    "    else:\n",
    "        inactive_stds.append(s)\n",
    "\n",
    "print(\"Number of active students\")\n",
    "print(len(active_stds))\n",
    "\n",
    "print(\"Number of inactive students\")\n",
    "print(len(inactive_stds))"
   ]
  },
  {
   "cell_type": "code",
   "execution_count": 93,
   "id": "62677c3a",
   "metadata": {},
   "outputs": [],
   "source": [
    "total_active_stds=len(active_stds)\n",
    "total_inactive_stds=len(inactive_stds)"
   ]
  },
  {
   "cell_type": "code",
   "execution_count": 70,
   "id": "b2a1dcb5",
   "metadata": {},
   "outputs": [],
   "source": [
    "output1={\n",
    "   \"total_active_clgs\":total_active_clgs ,\n",
    "   \"total_inactive_clgs\":total_inactive_clgs ,\n",
    "   \"total_active_grps\": total_active_grps,\n",
    "   \"total_inactive_grps\":total_inactive_grps,\n",
    "   \"total_active_stds\":total_active_stds ,\n",
    "   \"total_inactive_stds\":total_inactive_stds\n",
    "}\n",
    "\n",
    "json_obj=json.dumps(output1,indent=6)\n",
    "\n",
    "with open (\"output1.json\",\"w\") as o1:\n",
    "    o1.write(json_obj)\n",
    "    "
   ]
  },
  {
   "cell_type": "code",
   "execution_count": 94,
   "id": "2e137f31",
   "metadata": {},
   "outputs": [],
   "source": [
    "student_group=[]\n",
    "for i in students:\n",
    "    for j in group:\n",
    "        if i['grp_id']== j['grp_id']:\n",
    "            i['grp_name']=j['grp_name']\n",
    "            i['clg_id']=j['clg_id']\n",
    "            student_group.append(i)\n",
    "#print(student_group)       \n",
    "            "
   ]
  },
  {
   "cell_type": "code",
   "execution_count": 78,
   "id": "53ae530e",
   "metadata": {
    "scrolled": false
   },
   "outputs": [],
   "source": [
    "student_group_clgname=[]\n",
    "for i in student_group:\n",
    "    for j in colleges:\n",
    "        if i['clg_id']==j['clg_id']:\n",
    "            i['clg_name']=j['clg_name']\n",
    "            student_group_clgname.append(i)\n",
    "# print(student_group_clgname)          \n",
    "for i in student_group_clgname:\n",
    "    del i['grp_id']\n",
    "    del i['clg_id']\n",
    "    #output2.append(json.dumps(i))\n",
    "#print(output2)   \n"
   ]
  },
  {
   "cell_type": "code",
   "execution_count": 80,
   "id": "55f35819",
   "metadata": {},
   "outputs": [],
   "source": [
    "with open(\"output.json\",\"w\") as o2:\n",
    "    json.dump(student_group_clgname,o2)"
   ]
  },
  {
   "cell_type": "code",
   "execution_count": 81,
   "id": "ac146878",
   "metadata": {},
   "outputs": [],
   "source": [
    "clg_id_to_be_updated=[\n",
    "     {\n",
    "    \"clg_name\": \"Indian Institute of Science (IISC) Bangalore College\",\n",
    "    \"clg_id\": \"53158c90-ae0a-4b47-bc02-b92a9980e88d\"\n",
    "     },\n",
    "    {\n",
    "    \"clg_name\": \"Indian Institute of Technology Delhi (IITD) College\",\n",
    "    \"clg_id\": \"6358ccfd-636c-4541-b8fb-e62922fe97d2\",\n",
    "  },\n",
    "  {\n",
    "    \"clg_name\": \"Indian Institute of Technology Madras (IITM) College\",\n",
    "    \"clg_id\": \"8e34fafd-dec9-406b-b913-869262ebbbed\",\n",
    "  },\n",
    "  {\n",
    "    \"clg_name\": \"Indian Institute of Technology Kharagpur (IITKGP) College\",\n",
    "    \"clg_id\": \"1317ac04-47f3-4fb4-9580-d8f8dc00771f\",\n",
    "  },\n",
    "  {\n",
    "    \"clg_name\": \"Indian Institute of Technology Kanpur (IITK) College\",\n",
    "    \"clg_id\": \"a9b2ad65-f8b7-4091-b07c-29f3babcfdb1\",\n",
    "  },\n",
    "  {\n",
    "    \"clg_name\": \"University of Delhi College\",\n",
    "    \"clg_id\": \"c36cbe5a-8c18-49e9-bd4c-51a37a3ca5b0\",\n",
    "  },\n",
    "  {\n",
    "    \"clg_name\": \"University of Hyderabad College\",\n",
    "    \"clg_id\": \"62b8b3df-efde-47f6-a512-e478db7327bd\",\n",
    "  },\n",
    "  {\n",
    "    \"clg_name\": \"Indian Institute of Technology Roorkee (IITR) College\",\n",
    "    \"clg_id\": \"57422d07-fe77-4cd1-b98a-143f0b1f927d\",\n",
    "  },\n",
    "  {\n",
    "    \"clg_name\": \"Indian Institute of Technology Guwahati (IITG) College\",\n",
    "    \"clg_id\": \"41dd9823-748d-47a9-9b8d-7a99b8ad0331\",\n",
    "  },\n",
    "  {\n",
    "    \"clg_name\": \"undefined College\",\n",
    "    \"clg_id\": \"5b68c95e-91a8-4cc0-a6ba-dcbc6870fd6a\",\n",
    "  \n",
    "]"
   ]
  },
  {
   "cell_type": "code",
   "execution_count": 82,
   "id": "d58072af",
   "metadata": {},
   "outputs": [],
   "source": [
    "updated_clg_id=[]\n",
    "\n",
    "for i in colleges:\n",
    "    for j in clg_id_to_be_updated:\n",
    "        if i['clg_name']==j['clg_name']:\n",
    "            i['clg_id']=j['clg_id'] \n",
    "            updated_clg_id.append(i)"
   ]
  },
  {
   "cell_type": "code",
   "execution_count": 83,
   "id": "0c11053f",
   "metadata": {},
   "outputs": [],
   "source": [
    "with open(\"output.json\",\"w\") as o3:\n",
    "    json.dump(updated_clg_id,o3)"
   ]
  },
  {
   "cell_type": "code",
   "execution_count": null,
   "id": "7f582a47",
   "metadata": {},
   "outputs": [],
   "source": [
    "# to prettyfy the json format\n",
    "#python -m json.tool output.json output2.json"
   ]
  },
  {
   "cell_type": "code",
   "execution_count": null,
   "id": "70ed2428",
   "metadata": {},
   "outputs": [],
   "source": []
  },
  {
   "cell_type": "code",
   "execution_count": null,
   "id": "0138d7d2",
   "metadata": {},
   "outputs": [],
   "source": []
  }
 ],
 "metadata": {
  "kernelspec": {
   "display_name": "Python 3 (ipykernel)",
   "language": "python",
   "name": "python3"
  },
  "language_info": {
   "codemirror_mode": {
    "name": "ipython",
    "version": 3
   },
   "file_extension": ".py",
   "mimetype": "text/x-python",
   "name": "python",
   "nbconvert_exporter": "python",
   "pygments_lexer": "ipython3",
   "version": "3.8.8"
  }
 },
 "nbformat": 4,
 "nbformat_minor": 5
}
